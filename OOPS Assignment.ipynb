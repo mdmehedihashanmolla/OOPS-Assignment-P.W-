{
 "cells": [
  {
   "cell_type": "markdown",
   "id": "2aa746f7",
   "metadata": {},
   "source": [
    "### Q1. Explain Class and Object with respect to Object-Oriented Programming. Give a suitable example."
   ]
  },
  {
   "cell_type": "markdown",
   "id": "f2556850",
   "metadata": {},
   "source": [
    "Ans ->   **A class is a blueprint or a template for creating objects in object-oriented programming (OOP),And  an object is an instance of a class.**"
   ]
  },
  {
   "cell_type": "code",
   "execution_count": 1,
   "id": "cb091bf2",
   "metadata": {},
   "outputs": [],
   "source": [
    "# Example\n",
    "\n",
    "class Programmer: # This is a Class\n",
    "    def __init__(self,Name, Favourite_Language, Profession):\n",
    "        self.Name = Name\n",
    "        self.Favourite_Language = Favourite_Language\n",
    "        self.Profession = Profession\n",
    "        \n",
    "    def My_Data(self):\n",
    "        print(f\"Hi folks My Name is {self.Name}, \\n My Favourite Programming Language is {self.Favourite_Language}\\n\"\n",
    "              f\" My Profession is {self.Profession} \")\n",
    "        "
   ]
  },
  {
   "cell_type": "code",
   "execution_count": 2,
   "id": "ca7a7985",
   "metadata": {},
   "outputs": [
    {
     "name": "stdout",
     "output_type": "stream",
     "text": [
      "Hi folks My Name is MD Mehedi, \n",
      " My Favourite Programming Language is Python\n",
      " My Profession is Data Scientist \n"
     ]
    }
   ],
   "source": [
    "Object = Programmer(\"MD Mehedi\", \"Python\", \"Data Scientist\") #Example of Objects\n",
    "Object.My_Data()"
   ]
  },
  {
   "cell_type": "markdown",
   "id": "6aef1418",
   "metadata": {},
   "source": [
    "### Q2. Name  the four pillars of OOPS."
   ]
  },
  {
   "cell_type": "markdown",
   "id": "957c48ed",
   "metadata": {},
   "source": [
    "1. Encapsulation: Encapsulation refers to the practice of bundling related data and methods into a single unit (i.e., a class) and restricting access to the internal workings of that unit. This helps to maintain data integrity and prevent unauthorized access to sensitive data.\n",
    "\n",
    "2. Inheritance: Inheritance is the process by which one class inherits the properties and methods of another class. This allows new classes to be created from existing ones, promoting code reuse and reducing redundancy.\n",
    "\n",
    "3. Polymorphism: Polymorphism refers to the ability of objects to take on multiple forms or behave in different ways based on their context. This allows different classes to share the same interface while implementing unique behaviors.\n",
    "\n",
    "4. Abstraction: Abstraction involves creating simplified representations of complex systems to help manage their complexity. In OOP, this often involves defining abstract classes or interfaces that define the core functionality of a system without getting bogged down in implementation details.**"
   ]
  },
  {
   "cell_type": "markdown",
   "id": "ed50e425",
   "metadata": {},
   "source": [
    "### Q3. Explain why the __init__() function is used. Give a suitable Example."
   ]
  },
  {
   "cell_type": "markdown",
   "id": "b38460ad",
   "metadata": {},
   "source": [
    "Ans--> \n",
    " **The __init__() function is a special method in Python classes that is called when a new instance of the class is created. It is used to initialize the attributes of the object with default or user-specified values.**"
   ]
  },
  {
   "cell_type": "code",
   "execution_count": 3,
   "id": "e8af7bd0",
   "metadata": {},
   "outputs": [
    {
     "data": {
      "text/plain": [
       "'\\nIn this example, we create two instances of the Person class, person1 and person2, with different values for name and age. \\nThe __init__() method is called automatically when each instance is created and sets the name and age attributes accordingly.\\nUsing the __init__() method ensures that each instance of the class is properly initialized with the necessary attributes.\\nIt also allows us to set default values for the attributes if none are provided, making the class more flexible and easier \\nto use.\\n\\n'"
      ]
     },
     "execution_count": 3,
     "metadata": {},
     "output_type": "execute_result"
    }
   ],
   "source": [
    "# Example \n",
    "\n",
    "class Person:\n",
    "    def __init__(self, name, age):\n",
    "        self.name = name\n",
    "        self.age = age\n",
    "person1 = Person(\"Mehedi\", 18)\n",
    "person2 = Person(\"Ankan\", 39)\n",
    "\"\"\"\n",
    "In this example, we create two instances of the Person class, person1 and person2, with different values for name and age. \n",
    "The __init__() method is called automatically when each instance is created and sets the name and age attributes accordingly.\n",
    "Using the __init__() method ensures that each instance of the class is properly initialized with the necessary attributes.\n",
    "It also allows us to set default values for the attributes if none are provided, making the class more flexible and easier \n",
    "to use.\n",
    "\n",
    "\"\"\""
   ]
  },
  {
   "cell_type": "markdown",
   "id": "eaf15a68",
   "metadata": {},
   "source": [
    "### Q4. Why self is used in OOPs"
   ]
  },
  {
   "cell_type": "markdown",
   "id": "8920a0b2",
   "metadata": {},
   "source": [
    "Ans -- > **\"self\" in object-oriented programming refers to the instance of a class that a method is being called on. It is a way to access and modify the attributes and methods of a particular object within the class.**"
   ]
  },
  {
   "cell_type": "markdown",
   "id": "163384e3",
   "metadata": {},
   "source": [
    "### Q5. What is inheritance? Give an example for each type of inheritance."
   ]
  },
  {
   "cell_type": "markdown",
   "id": "0850652b",
   "metadata": {},
   "source": [
    "**In Python, inheritance is a way to create a new class that is a modified or specialized version of an existing class. The new class inherits all the properties and methods of the existing class, and can also add its own properties and methods. This allows you to reuse code and avoid duplication, as well as make your code more organized and easier to maintain.**"
   ]
  },
  {
   "cell_type": "markdown",
   "id": "1dc38a59",
   "metadata": {},
   "source": [
    "**1. Single inheritance is a type of inheritance in object-oriented programming where a new class is derived from a single base or parent class.**"
   ]
  },
  {
   "cell_type": "code",
   "execution_count": 4,
   "id": "f19dd8e1",
   "metadata": {},
   "outputs": [
    {
     "name": "stdout",
     "output_type": "stream",
     "text": [
      "Mehedi is doing Pw Data Science Course .\n",
      "Data Science\n"
     ]
    }
   ],
   "source": [
    "# Example of Single inheritance\n",
    "class Programmer:\n",
    "    def __init__(self, name):\n",
    "        self.name = name\n",
    "\n",
    "    def Name(self):\n",
    "        print(f\"{self.name} is doing Pw Data Science Course .\")\n",
    "\n",
    "class single(Programmer):\n",
    "    def __init__(self, name):\n",
    "        super().__init__(name)\n",
    "        \n",
    "    def profession(self):\n",
    "        print(\"Data Science\")\n",
    "\n",
    "My_details = single(\"Mehedi\")\n",
    "My_details.Name()  # Mehedi is doing Pw Data Science Course .\n",
    "My_details.profession() # # Example of Single inheritance\n"
   ]
  },
  {
   "cell_type": "markdown",
   "id": "4fc6933f",
   "metadata": {},
   "source": [
    "**2. Multiple inheritance: Multiple inheritance is when a class inherits properties from two or more parent classes.**"
   ]
  },
  {
   "cell_type": "code",
   "execution_count": 32,
   "id": "2b1e19f1",
   "metadata": {},
   "outputs": [
    {
     "name": "stdout",
     "output_type": "stream",
     "text": [
      "This is an example of multiple inheritance\n",
      "My name is Mehedi and my product is Coffee\n",
      "My favourite car is Lamborginni and it was manufactured in 2025\n"
     ]
    }
   ],
   "source": [
    "class BusinessMan:\n",
    "    def __init__(self, name, product):\n",
    "        self.name = name\n",
    "        self.product = product\n",
    "        \n",
    "    def set_business_data(self, name, product):\n",
    "        self.name = name\n",
    "        self.product = product\n",
    "        \n",
    "    def return_data(self):\n",
    "        print(f\"My name is {self.name} and my product is {self.product}\")\n",
    "        \n",
    "class Car:\n",
    "    def __init__(self, car_name, car_year):\n",
    "        self.car_name = car_name\n",
    "        self.car_year = car_year\n",
    "              \n",
    "    def set_car_data(self, car_name, car_year):\n",
    "        self.car_name = car_name\n",
    "        self.car_year = car_year\n",
    "        \n",
    "    def return_car_data(self):\n",
    "        print(f\"My favourite car is {self.car_name} and it was manufactured in {self.car_year}\")\n",
    "    \n",
    "class Multiple(BusinessMan, Car):\n",
    "    def __init__(self, name, product, car_name, car_year):\n",
    "        BusinessMan.__init__(self, name, product)\n",
    "        Car.__init__(self, car_name, car_year)\n",
    "        print(\"This is an example of multiple inheritance\")\n",
    "\n",
    "o = Multiple(\"Mehedi\", \"Tea\", \"Lamborginni\", 2025)\n",
    "o.set_business_data(\"Mehedi\", \"Coffee\")\n",
    "o.return_data()            # calling return_data method of the Multiple class\n",
    "o.return_car_data()            # calling return_data method of the Car class\n"
   ]
  },
  {
   "cell_type": "markdown",
   "id": "b691c794",
   "metadata": {},
   "source": [
    "**3. Multilevel Inheritance = Multilevel Inheritance in Python is a type of Inheritance that involves inheriting a class that has already inherited some other class. That means the derived/subclass class inherits the features of the base class/parent class, and the new derived class inherits the features of the derived class.**"
   ]
  },
  {
   "cell_type": "code",
   "execution_count": 35,
   "id": "694a3044",
   "metadata": {},
   "outputs": [
    {
     "name": "stdout",
     "output_type": "stream",
     "text": [
      "This is an example of multilevel inheritance\n",
      "Mehedi\n",
      "Coffee\n",
      "My favourite car is Lamborghini and it was manufactured in 2025\n"
     ]
    }
   ],
   "source": [
    "class Person:\n",
    "    def __init__(self, name):\n",
    "        self.name = name\n",
    "        \n",
    "    def set_name(self, name):\n",
    "        self.name = name\n",
    "        \n",
    "    def get_name(self):\n",
    "        return self.name\n",
    "        \n",
    "class BusinessMan(Person):\n",
    "    def __init__(self, name, product):\n",
    "        super().__init__(name)\n",
    "        self.product = product\n",
    "        \n",
    "    def set_product(self, product):\n",
    "        self.product = product\n",
    "        \n",
    "    def get_product(self):\n",
    "        return self.product\n",
    "        \n",
    "class Car:\n",
    "    def __init__(self, car_name, car_year):\n",
    "        self.car_name = car_name\n",
    "        self.car_year = car_year\n",
    "              \n",
    "    def set_car_data(self, car_name, car_year):\n",
    "        self.car_name = car_name\n",
    "        self.car_year = car_year\n",
    "        \n",
    "    def return_car_data(self):\n",
    "        print(f\"My favourite car is {self.car_name} and it was manufactured in {self.car_year}\")\n",
    "        \n",
    "class Multiple(BusinessMan, Car):\n",
    "    def __init__(self, name, product, car_name, car_year):\n",
    "        super().__init__(name, product)\n",
    "        Car.__init__(self, car_name, car_year)\n",
    "        print(\"This is an example of multilevel inheritance\")\n",
    "\n",
    "o = Multiple(\"Mehedi\", \"Tea\", \"Lamborghini\", 2025)\n",
    "o.set_name(\"Mehedi\")\n",
    "o.set_product(\"Coffee\")\n",
    "print(o.get_name())\n",
    "print(o.get_product())\n",
    "o.return_car_data()\n"
   ]
  },
  {
   "cell_type": "markdown",
   "id": "90eda8d5",
   "metadata": {},
   "source": [
    "**4. Hierarchical inheritance = a single parent class is used as a base class and it is derived by multiple child classes. Each child class inherits the properties and behaviors of the parent class and can also add its own unique properties and behaviors. This allows for code reusability and helps to organize code in a more logical and efficient way.**"
   ]
  },
  {
   "cell_type": "code",
   "execution_count": 36,
   "id": "4d2c2389",
   "metadata": {},
   "outputs": [
    {
     "name": "stdout",
     "output_type": "stream",
     "text": [
      "This function is in the Animal class.\n",
      "This function is in the Dog class.\n",
      "This function is in the Animal class.\n",
      "This function is in the Cat class.\n"
     ]
    }
   ],
   "source": [
    "# Base class\n",
    "class Animal:\n",
    "    def move(self):\n",
    "        print(\"This function is in the Animal class.\")\n",
    "\n",
    "# Derived class 1\n",
    "class Dog(Animal):\n",
    "    def bark(self):\n",
    "        print(\"This function is in the Dog class.\")\n",
    "\n",
    "# Derived class 2\n",
    "class Cat(Animal):\n",
    "    def meow(self):\n",
    "        print(\"This function is in the Cat class.\")\n",
    "\n",
    "# Driver's code\n",
    "d = Dog()\n",
    "c = Cat()\n",
    "d.move()\n",
    "d.bark()\n",
    "c.move()\n",
    "c.meow()\n"
   ]
  },
  {
   "cell_type": "markdown",
   "id": "208fb528",
   "metadata": {},
   "source": [
    "**Hybrid inheritance = hybrid inheritance involves a mix of inheritance types, such as single, multiple, and hierarchical inheritance. This allows for more flexibility in designing class hierarchies and can help to avoid code duplication and improve code reusability.**"
   ]
  },
  {
   "cell_type": "code",
   "execution_count": 37,
   "id": "d2039f6d",
   "metadata": {},
   "outputs": [
    {
     "name": "stdout",
     "output_type": "stream",
     "text": [
      "Mehedi is a student.\n",
      "Data Scientist\n"
     ]
    }
   ],
   "source": [
    "class Student:\n",
    "    def __init__(self, name):\n",
    "        self.name = name\n",
    "\n",
    "    def Name(self):\n",
    "        print(f\"{self.name} is a student.\")\n",
    "\n",
    "class Programmer(Student):\n",
    "    def __init__(self, name):\n",
    "        super().__init__(name)\n",
    "        \n",
    "    def profession(self):\n",
    "        print(\"Programmer\")\n",
    "\n",
    "class DataScientist(Programmer, Student):\n",
    "    def __init__(self, name):\n",
    "        super().__init__(name)\n",
    "        \n",
    "    def profession(self):\n",
    "        print(\"Data Scientist\")\n",
    "\n",
    "my_details = DataScientist(\"Mehedi\")\n",
    "my_details.Name()  # Mehedi is a student.\n",
    "my_details.profession()  # Data Scientist\n"
   ]
  },
  {
   "cell_type": "code",
   "execution_count": null,
   "id": "bbb4a486",
   "metadata": {},
   "outputs": [],
   "source": []
  }
 ],
 "metadata": {
  "kernelspec": {
   "display_name": "Python 3 (ipykernel)",
   "language": "python",
   "name": "python3"
  },
  "language_info": {
   "codemirror_mode": {
    "name": "ipython",
    "version": 3
   },
   "file_extension": ".py",
   "mimetype": "text/x-python",
   "name": "python",
   "nbconvert_exporter": "python",
   "pygments_lexer": "ipython3",
   "version": "3.10.7"
  }
 },
 "nbformat": 4,
 "nbformat_minor": 5
}
